{
 "cells": [
  {
   "cell_type": "markdown",
   "metadata": {},
   "source": [
    "<img src=\"wordcloud.jpg\" width=\"350\" height=\"350\" style=\"vertical-align:top\">"
   ]
  },
  {
   "cell_type": "markdown",
   "metadata": {},
   "source": [
    "# <center><font color='navy' size=6> Syllabi Parsing</font></center>\n",
    "<center><font size=3><i>By Marisol Hernandez</i></font></center>  \n",
    "<center><font size=3><i>01/31/2021</i></font></center>\n",
    "\n",
    "---\n",
    "\n",
    "## <font color='navy'> Table of Contents</font>\n",
    "\n",
    "[I. Objective](#objective)  \n",
    "[II. Getting Started](#started)  \n",
    "[III. Feature Extraction](#feature)  \n",
    "[IV. Syllabi Parsing](#syllabi)  \n",
    "[V. CSV File](#csv)  \n",
    "[VI. Summary](#summary)"
   ]
  },
  {
   "cell_type": "markdown",
   "metadata": {},
   "source": [
    "## <font color='navy'> Objective</font><a id='objective'></a>\n",
    "---\n",
    "A syllabus is a fundamental resource students should not take for granted. A written contract between students and the instructor(s), the syllabus conveys the essential information about a class all in one document, including class times, instructor contact information, due dates, class resources, and much more. If a student has any questions regarding the class expectations, a instructor will most likely direct them to the syllabus.\n",
    "\n",
    "It is very common for students to take multiple classes at once. In both semester and quarter systems, students are typically enrolled in 4-5 classes. As a result, that is 4-5 syllabi students must thoroughly familiarize themselves with. With multiple syllabi of various lengths, it can be somewhat overwhelming. But what if there was a way to easily parse these syllabi so that these students collect only the most essential information? In this notebook, I will show you how we can use Pythons script to parse through these documents and extract important features of each syllabus."
   ]
  },
  {
   "cell_type": "markdown",
   "metadata": {},
   "source": [
    "## <font color='navy'> Getting Started</font><a id='started'></a>\n",
    "---\n",
    "To begin, I load some libraries necessary for this investigation. Then, I use `os.listdir()` to get a list of all files stored in the syllabi folder. My program will later loop through this list and read the contents of each file. Here each file represents one syllabus."
   ]
  },
  {
   "cell_type": "code",
   "execution_count": 1,
   "metadata": {
    "scrolled": true
   },
   "outputs": [
    {
     "name": "stdout",
     "output_type": "stream",
     "text": [
      "['Intro_to_Chemistry_Syllabus.pdf', 'CS101Syllabus.pdf', 'CS111Syllabus.pdf', 'SJSUSyllabus.pdf', 'Intro_to_CS_Syllabus.pdf']\n"
     ]
    }
   ],
   "source": [
    "import os\n",
    "from pdfminer.high_level import extract_text\n",
    "import re\n",
    "import numpy as np\n",
    "import pandas as pd\n",
    "\n",
    "# Get all file names from syllabi folder\n",
    "files = os.listdir(r\"syllabi/\")\n",
    "print(files)"
   ]
  },
  {
   "cell_type": "markdown",
   "metadata": {},
   "source": [
    "## <font color='navy'> Feature Extraction</font><a id='feature'></a>\n",
    "---\n",
    "In this next section, I define a function for each feature extraction. To start, I first define a list for each of the 8 features that I will be extracting from each of the syllabi. The features I will be extracting are as follows:\n",
    "- Instructor(s) Name(s)\n",
    "- Instructor Emails\n",
    "- Phone Numbers\n",
    "- URLs\n",
    "- Dates\n",
    "- Lecture Times\n",
    "- Whether a Textbook is Required\n",
    "- Percentages"
   ]
  },
  {
   "cell_type": "code",
   "execution_count": 2,
   "metadata": {},
   "outputs": [],
   "source": [
    "instructor_names, instructor_emails, phone_numbers, important_urls = [],[],[],[]\n",
    "important_dates, important_times, requires_textbook, important_percentages = [],[],[],[]"
   ]
  },
  {
   "cell_type": "markdown",
   "metadata": {},
   "source": [
    "I first define a function that will extract the instructor(s) name(s) from the syllabus. My regular expression pretty much searches for the terms *instructors* or *instructor*, followed by 0-5 non-digit single characters (to account for spacing and indentation), a potential title, and then two words representing the first and last name. Using the regular expression, I created an if-else statement that appends the instructor name to my `instructor_names` list if it exists, else append `NaN` if it does not exist."
   ]
  },
  {
   "cell_type": "code",
   "execution_count": 3,
   "metadata": {},
   "outputs": [],
   "source": [
    "# Find instructor(s) name(s)\n",
    "def my_function(content):\n",
    "    my_pattern = re.compile(\"(?:instructors|instructor)\\D{0,5}(?:[a-z]\\.|)(?:\\s|)[a-z]*\\s[a-z]*\")\n",
    "    name_exists = my_pattern.search(content.lower())\n",
    "    \n",
    "    if name_exists:\n",
    "        name = my_pattern.findall(content.lower())\n",
    "        name = name[0].split()[1:]\n",
    "        full_name = ' '.join(name).title()\n",
    "        instructor_names.append(full_name)\n",
    "    else:\n",
    "        instructor_names.append(np.nan)"
   ]
  },
  {
   "cell_type": "markdown",
   "metadata": {},
   "source": [
    "My second function is designed to extract important emails from the syllabus, belonging to the instructor and/or TAs. My regular expression searches for a sequence of non-white characters, followed by **@**, and followed by another sequence of non-white chatacters. Using the regular expression, I created an if-else statement that appends the email(s) to my `instructor_emails` list if it exists, else append `NaN` if it does not exist."
   ]
  },
  {
   "cell_type": "code",
   "execution_count": 4,
   "metadata": {},
   "outputs": [],
   "source": [
    "# Find important emails\n",
    "def my_function2(content):\n",
    "    my_pattern2 = re.compile(\"\\S+@\\S+\")\n",
    "    email_exists = my_pattern2.search(content)\n",
    "    \n",
    "    if email_exists:\n",
    "        email = my_pattern2.findall(content)\n",
    "        all_emails = ', '.join(email)\n",
    "        instructor_emails.append(all_emails)\n",
    "    else:\n",
    "        instructor_emails.append(np.nan)"
   ]
  },
  {
   "cell_type": "markdown",
   "metadata": {},
   "source": [
    "My third function is designed to extract phone numbers from the syllabus. My regular expression searches for phone numbers of the following format:\n",
    "- `(000) - 000 - 0000` or `(000)-000-0000`\n",
    "- `(000) . 000 . 0000` or `(000).000.0000`\n",
    "- `000 - 000 - 0000` or `000-000-0000`\n",
    "- `000 . 000 . 0000` or `000.000.0000`\n",
    "\n",
    "Using the regular expression, I created an if-else statement that appends the phone number(s) to my `phone_numbers` list if it exists, else append `NaN` if it does not exist."
   ]
  },
  {
   "cell_type": "code",
   "execution_count": 5,
   "metadata": {},
   "outputs": [],
   "source": [
    "# Find phone numbers\n",
    "def my_function3(content):\n",
    "    my_pattern3 = re.compile(\"(?:\\(|)\\d{3}(?:\\)|)(?:\\s|)(?:-|\\.)(?:\\s|)\\d{3}(?:\\s|)(?:-|\\.)(?:\\s|)\\d{4}\")\n",
    "    phone_exists = my_pattern3.search(content)\n",
    "    \n",
    "    if phone_exists:\n",
    "        phone = my_pattern3.findall(content)\n",
    "        all_phones = ', '.join(phone)\n",
    "        phone_numbers.append(all_phones)\n",
    "    else:\n",
    "        phone_numbers.append(np.nan)"
   ]
  },
  {
   "cell_type": "markdown",
   "metadata": {},
   "source": [
    "My fourth function is designed to extract URLs from the syllabus, either directing to the class website or additional resources. My regular expression searches for URLs beginning with either **http://** or **https://**. Using the regular expression, I created an if-else statement that appends the URL(s) to my `important_urls` list if it exists, else append `NaN` if it does not exist."
   ]
  },
  {
   "cell_type": "code",
   "execution_count": 6,
   "metadata": {},
   "outputs": [],
   "source": [
    "# Find URLs\n",
    "def my_function4(content):\n",
    "    my_pattern4 = re.compile(\"(http|https)(://)([\\w_-]+(?:(?:\\.[\\w_-]+)+))([\\w.,@?^=%&:/~+#-]*[\\w@?^=%&/~+#-])?\")\n",
    "    urls_exist = my_pattern4.search(content)\n",
    "    \n",
    "    if urls_exist:\n",
    "        url = my_pattern4.findall(content)\n",
    "        full_urls = [''.join(tuples) for tuples in url] \n",
    "        all_urls = ', '.join(full_urls)\n",
    "        important_urls.append(all_urls)\n",
    "    else:\n",
    "        important_urls.append(np.nan)"
   ]
  },
  {
   "cell_type": "markdown",
   "metadata": {},
   "source": [
    "My fifth function is designed to extract dates from the syllabus. My regular expression searches for dates of the following format:\n",
    "- `\\d{1,2}/\\d{1,2}/d{2,4}` (e.g. 00/0/0000)\n",
    "- `\\d{1,2}-\\d{1,2}-d{2,4}` (e.g. 00-00-00)\n",
    "- `\\d{1,2}\\.\\d{1,2}\\.d{2,4}` (e.g. 0.0.0000)\n",
    "- `\\d{1,2}/d{1,4}` (e.g. 0/0000)\n",
    "- `\\d{1,2}-d{1,4}` (e.g. 00-00)\n",
    "- `\\d{1,2}\\.d{1,4}` (e.g. 0.0)\n",
    "\n",
    "\n",
    "Using the regular expression, I created an if-else statement that appends the date(s) to my `important_dates` list if it exists, else append `NaN` if it does not exist."
   ]
  },
  {
   "cell_type": "code",
   "execution_count": 7,
   "metadata": {},
   "outputs": [],
   "source": [
    "# Find dates\n",
    "def my_function5(content):\n",
    "    my_pattern5 = re.compile(\"[\\d]{1,2}[/|-|\\.][\\d]{1,2}[/|-|.][[\\d]{2}|[\\d]{4}]|[\\d]{1,2}[/|-|\\.][[\\d]{2}|[\\d]{4}]\")\n",
    "    dates_exist = my_pattern5.search(content)\n",
    "    \n",
    "    if dates_exist:\n",
    "        dates = my_pattern5.findall(content)\n",
    "        all_dates = ', '.join(dates)\n",
    "        important_dates.append(all_dates)\n",
    "    else:\n",
    "        important_dates.append(np.nan)"
   ]
  },
  {
   "cell_type": "markdown",
   "metadata": {},
   "source": [
    "My sixth function is designed to extract time intervals from the syllabus, typically representing lecture times. Using the regular expression, I created an if-else statement that appends the time(s) to my `important_times` list if it exists, else append `NaN` if it does not exist."
   ]
  },
  {
   "cell_type": "code",
   "execution_count": 8,
   "metadata": {},
   "outputs": [],
   "source": [
    "# Find times\n",
    "def my_function6(content):\n",
    "    my_pattern6 = re.compile(\"\\d{1,2}:\\d{2}(?:\\s|)(?:am|pm|a\\.m\\.|p\\.m\\.|)(?:\\s|)(?:–|-|)(?:\\s|)\\d{1,2}:\\d{2}(?:\\s|)(?:am|pm|a\\.m\\.|p\\.m\\.|)\")\n",
    "    times_exist = my_pattern6.search(content.lower())\n",
    "    \n",
    "    if times_exist:\n",
    "        times = my_pattern6.findall(content.lower())\n",
    "        for i in range(len(times)):\n",
    "            times[i] = ''.join(times[i].split())\n",
    "        all_times = ', '.join(times)\n",
    "        important_times.append(all_times)\n",
    "    else:\n",
    "        important_times.append(np.nan)"
   ]
  },
  {
   "cell_type": "markdown",
   "metadata": {},
   "source": [
    "My seventh function is designed to check to see if a textbook is required for the class. Using a regular expression, I check to see if the pattern `textbook` exists in the syllabus. If it does, then I append `Yes` to my `requires_textbook` list. If it doesn't, then I append `No`."
   ]
  },
  {
   "cell_type": "code",
   "execution_count": 9,
   "metadata": {},
   "outputs": [],
   "source": [
    "# Requires textbook?\n",
    "def my_function7(content):\n",
    "    my_pattern7 = re.compile(\"textbook\")\n",
    "    textbook_exists = my_pattern7.search(content.lower())\n",
    "    \n",
    "    if textbook_exists:\n",
    "        requires_textbook.append(\"Yes\")\n",
    "    else:\n",
    "        requires_textbook.append(\"No\")"
   ]
  },
  {
   "cell_type": "markdown",
   "metadata": {},
   "source": [
    "My eighth function is designed to extract percentages from the syllabus, typically representing the grading rubric. Using the regular expression, I created an if-else statement that appends the percentage(s) to my `important_percentages` list if it exists, else append `NaN` if it does not exist."
   ]
  },
  {
   "cell_type": "code",
   "execution_count": 10,
   "metadata": {},
   "outputs": [],
   "source": [
    "# Find all percentages\n",
    "def my_function8(content):\n",
    "    my_pattern8 = re.compile(\"[0-9]{1,2}%\")\n",
    "    percentage_exists = my_pattern8.search(content)\n",
    "    \n",
    "    if percentage_exists:\n",
    "        percentage = my_pattern8.findall(content)\n",
    "        all_percentages = ', '.join(percentage)\n",
    "        important_percentages.append(all_percentages)\n",
    "    else:\n",
    "        important_percentages.append(np.nan)"
   ]
  },
  {
   "cell_type": "markdown",
   "metadata": {},
   "source": [
    "## <font color='navy'> Syllabi Parsing</font><a id='syllabi'></a>\n",
    "---\n",
    "Now that I have defined all eight functions from the previous section, I can now run them on each of my syllabi stored in the *syllabi* folder. Using a `for` loop, my program reads the text of each syllabus and extracts the eight features."
   ]
  },
  {
   "cell_type": "code",
   "execution_count": 11,
   "metadata": {},
   "outputs": [
    {
     "name": "stderr",
     "output_type": "stream",
     "text": [
      "<ipython-input-7-ada329fd71db>:3: FutureWarning: Possible nested set at position 34\n",
      "  my_pattern5 = re.compile(\"[\\d]{1,2}[/|-|\\.][\\d]{1,2}[/|-|.][[\\d]{2}|[\\d]{4}]|[\\d]{1,2}[/|-|\\.][[\\d]{2}|[\\d]{4}]\")\n",
      "<ipython-input-7-ada329fd71db>:3: FutureWarning: Possible nested set at position 69\n",
      "  my_pattern5 = re.compile(\"[\\d]{1,2}[/|-|\\.][\\d]{1,2}[/|-|.][[\\d]{2}|[\\d]{4}]|[\\d]{1,2}[/|-|\\.][[\\d]{2}|[\\d]{4}]\")\n"
     ]
    }
   ],
   "source": [
    "for i in range(0,len(files)):\n",
    "    text = extract_text(\"syllabi/\" + files[i])\n",
    "\n",
    "    my_function(text)\n",
    "    my_function2(text)\n",
    "    my_function3(text)\n",
    "    my_function4(text)\n",
    "    my_function5(text)\n",
    "    my_function6(text)\n",
    "    my_function7(text)\n",
    "    my_function8(text)"
   ]
  },
  {
   "cell_type": "markdown",
   "metadata": {},
   "source": [
    "The `for` loop above has now populated the 8 lists I defined. Using these lists, I create a dictionary. I then transform this dictionary into a pandas dataframe as shown below. We can now see that the dataframe consists of the features we have extracted."
   ]
  },
  {
   "cell_type": "code",
   "execution_count": 12,
   "metadata": {},
   "outputs": [
    {
     "data": {
      "text/html": [
       "<div>\n",
       "<style scoped>\n",
       "    .dataframe tbody tr th:only-of-type {\n",
       "        vertical-align: middle;\n",
       "    }\n",
       "\n",
       "    .dataframe tbody tr th {\n",
       "        vertical-align: top;\n",
       "    }\n",
       "\n",
       "    .dataframe thead th {\n",
       "        text-align: right;\n",
       "    }\n",
       "</style>\n",
       "<table border=\"1\" class=\"dataframe\">\n",
       "  <thead>\n",
       "    <tr style=\"text-align: right;\">\n",
       "      <th></th>\n",
       "      <th>Instructor Names</th>\n",
       "      <th>Instructor Emails</th>\n",
       "      <th>Phone Numbers</th>\n",
       "      <th>URLs</th>\n",
       "      <th>Significant Dates</th>\n",
       "      <th>Lecture Times</th>\n",
       "      <th>Requires Textbook?</th>\n",
       "      <th>Percentages</th>\n",
       "    </tr>\n",
       "  </thead>\n",
       "  <tbody>\n",
       "    <tr>\n",
       "      <th>0</th>\n",
       "      <td>Timothy Welsh</td>\n",
       "      <td>timothywelsh@ventureacademy.edu</td>\n",
       "      <td>209-958-3232</td>\n",
       "      <td>http://www.ventureacademyca.org, http://www.ve...</td>\n",
       "      <td>2/18/20, 04/15/20, 5/1/20</td>\n",
       "      <td>2:00pm–3:15p.m.</td>\n",
       "      <td>Yes</td>\n",
       "      <td>30%, 20%, 15%, 35%</td>\n",
       "    </tr>\n",
       "    <tr>\n",
       "      <th>1</th>\n",
       "      <td>Dr. Sharon Simmons</td>\n",
       "      <td>simmonsj@jmu.edu</td>\n",
       "      <td>540-568-4196</td>\n",
       "      <td>http://w3.cs.jmu.edu/cs101, http://www.jmu.edu...</td>\n",
       "      <td>09/04/20, 10/28/20</td>\n",
       "      <td>2:10pm–3:00pm, 4:00pm–4:50pm, 5:05pm–5:55pm</td>\n",
       "      <td>Yes</td>\n",
       "      <td>12%, 18%, 10%, 40%, 20%</td>\n",
       "    </tr>\n",
       "    <tr>\n",
       "      <th>2</th>\n",
       "      <td>David Sullivan</td>\n",
       "      <td>dgs@cs.bu.edu</td>\n",
       "      <td>NaN</td>\n",
       "      <td>http://www.bu.edu/academics/policies/academic-...</td>\n",
       "      <td>3/10</td>\n",
       "      <td>10:10-11:00am, 11:15am-12:05pm, 12:20-1:10p.m.</td>\n",
       "      <td>Yes</td>\n",
       "      <td>45%, 25%, 25%, 5%</td>\n",
       "    </tr>\n",
       "    <tr>\n",
       "      <th>3</th>\n",
       "      <td>Molly Johnson</td>\n",
       "      <td>mjohnson@sjsu.edu</td>\n",
       "      <td>209-862-2011</td>\n",
       "      <td>https://www.sjsu.edu/visit/index.php, https://...</td>\n",
       "      <td>NaN</td>\n",
       "      <td>2:00–3:00p.m., 11:00am–12:00p.m.</td>\n",
       "      <td>No</td>\n",
       "      <td>10%, 30%, 20%, 40%</td>\n",
       "    </tr>\n",
       "    <tr>\n",
       "      <th>4</th>\n",
       "      <td>Andrew Davidson</td>\n",
       "      <td>ahdavidson@seattleschools.org</td>\n",
       "      <td>206.252.4853</td>\n",
       "      <td>http://rooseveltcs.org/courses/intro-to-cs/</td>\n",
       "      <td>06.25, 2.48</td>\n",
       "      <td>NaN</td>\n",
       "      <td>Yes</td>\n",
       "      <td>60%, 20%, 10%, 10%</td>\n",
       "    </tr>\n",
       "  </tbody>\n",
       "</table>\n",
       "</div>"
      ],
      "text/plain": [
       "     Instructor Names                Instructor Emails Phone Numbers  \\\n",
       "0       Timothy Welsh  timothywelsh@ventureacademy.edu  209-958-3232   \n",
       "1  Dr. Sharon Simmons                 simmonsj@jmu.edu  540-568-4196   \n",
       "2      David Sullivan                    dgs@cs.bu.edu           NaN   \n",
       "3       Molly Johnson                mjohnson@sjsu.edu  209-862-2011   \n",
       "4     Andrew Davidson    ahdavidson@seattleschools.org  206.252.4853   \n",
       "\n",
       "                                                URLs  \\\n",
       "0  http://www.ventureacademyca.org, http://www.ve...   \n",
       "1  http://w3.cs.jmu.edu/cs101, http://www.jmu.edu...   \n",
       "2  http://www.bu.edu/academics/policies/academic-...   \n",
       "3  https://www.sjsu.edu/visit/index.php, https://...   \n",
       "4        http://rooseveltcs.org/courses/intro-to-cs/   \n",
       "\n",
       "           Significant Dates                                   Lecture Times  \\\n",
       "0  2/18/20, 04/15/20, 5/1/20                                 2:00pm–3:15p.m.   \n",
       "1         09/04/20, 10/28/20     2:10pm–3:00pm, 4:00pm–4:50pm, 5:05pm–5:55pm   \n",
       "2                       3/10  10:10-11:00am, 11:15am-12:05pm, 12:20-1:10p.m.   \n",
       "3                        NaN                2:00–3:00p.m., 11:00am–12:00p.m.   \n",
       "4                06.25, 2.48                                             NaN   \n",
       "\n",
       "  Requires Textbook?              Percentages  \n",
       "0                Yes       30%, 20%, 15%, 35%  \n",
       "1                Yes  12%, 18%, 10%, 40%, 20%  \n",
       "2                Yes        45%, 25%, 25%, 5%  \n",
       "3                 No       10%, 30%, 20%, 40%  \n",
       "4                Yes       60%, 20%, 10%, 10%  "
      ]
     },
     "execution_count": 12,
     "metadata": {},
     "output_type": "execute_result"
    }
   ],
   "source": [
    "data = {\"Instructor Names\": instructor_names,\n",
    "       \"Instructor Emails\": instructor_emails,\n",
    "       \"Phone Numbers\": phone_numbers,\n",
    "       \"URLs\": important_urls,\n",
    "       \"Significant Dates\": important_dates,\n",
    "       \"Lecture Times\": important_times,\n",
    "       \"Requires Textbook?\": requires_textbook,\n",
    "       \"Percentages\": important_percentages}\n",
    "\n",
    "df = pd.DataFrame(data)\n",
    "df"
   ]
  },
  {
   "cell_type": "markdown",
   "metadata": {},
   "source": [
    "## <font color='navy'> CSV File</font><a id='csv'></a>\n",
    "---\n",
    "The last step of this program is to save the dataframe as a *csv* file, containg the features extracted:"
   ]
  },
  {
   "cell_type": "code",
   "execution_count": 14,
   "metadata": {},
   "outputs": [],
   "source": [
    "df.to_csv('output/features-retrieved-by-MarisolHernandez.csv', index=False)"
   ]
  },
  {
   "cell_type": "markdown",
   "metadata": {},
   "source": [
    "We can verify by reading in the *csv* file:"
   ]
  },
  {
   "cell_type": "code",
   "execution_count": 15,
   "metadata": {},
   "outputs": [
    {
     "data": {
      "text/html": [
       "<div>\n",
       "<style scoped>\n",
       "    .dataframe tbody tr th:only-of-type {\n",
       "        vertical-align: middle;\n",
       "    }\n",
       "\n",
       "    .dataframe tbody tr th {\n",
       "        vertical-align: top;\n",
       "    }\n",
       "\n",
       "    .dataframe thead th {\n",
       "        text-align: right;\n",
       "    }\n",
       "</style>\n",
       "<table border=\"1\" class=\"dataframe\">\n",
       "  <thead>\n",
       "    <tr style=\"text-align: right;\">\n",
       "      <th></th>\n",
       "      <th>Instructor Names</th>\n",
       "      <th>Instructor Emails</th>\n",
       "      <th>Phone Numbers</th>\n",
       "      <th>URLs</th>\n",
       "      <th>Significant Dates</th>\n",
       "      <th>Lecture Times</th>\n",
       "      <th>Requires Textbook?</th>\n",
       "      <th>Percentages</th>\n",
       "    </tr>\n",
       "  </thead>\n",
       "  <tbody>\n",
       "    <tr>\n",
       "      <th>0</th>\n",
       "      <td>Timothy Welsh</td>\n",
       "      <td>timothywelsh@ventureacademy.edu</td>\n",
       "      <td>209-958-3232</td>\n",
       "      <td>http://www.ventureacademyca.org, http://www.ve...</td>\n",
       "      <td>2/18/20, 04/15/20, 5/1/20</td>\n",
       "      <td>2:00pm–3:15p.m.</td>\n",
       "      <td>Yes</td>\n",
       "      <td>30%, 20%, 15%, 35%</td>\n",
       "    </tr>\n",
       "    <tr>\n",
       "      <th>1</th>\n",
       "      <td>Dr. Sharon Simmons</td>\n",
       "      <td>simmonsj@jmu.edu</td>\n",
       "      <td>540-568-4196</td>\n",
       "      <td>http://w3.cs.jmu.edu/cs101, http://www.jmu.edu...</td>\n",
       "      <td>09/04/20, 10/28/20</td>\n",
       "      <td>2:10pm–3:00pm, 4:00pm–4:50pm, 5:05pm–5:55pm</td>\n",
       "      <td>Yes</td>\n",
       "      <td>12%, 18%, 10%, 40%, 20%</td>\n",
       "    </tr>\n",
       "    <tr>\n",
       "      <th>2</th>\n",
       "      <td>David Sullivan</td>\n",
       "      <td>dgs@cs.bu.edu</td>\n",
       "      <td>NaN</td>\n",
       "      <td>http://www.bu.edu/academics/policies/academic-...</td>\n",
       "      <td>3/10</td>\n",
       "      <td>10:10-11:00am, 11:15am-12:05pm, 12:20-1:10p.m.</td>\n",
       "      <td>Yes</td>\n",
       "      <td>45%, 25%, 25%, 5%</td>\n",
       "    </tr>\n",
       "    <tr>\n",
       "      <th>3</th>\n",
       "      <td>Molly Johnson</td>\n",
       "      <td>mjohnson@sjsu.edu</td>\n",
       "      <td>209-862-2011</td>\n",
       "      <td>https://www.sjsu.edu/visit/index.php, https://...</td>\n",
       "      <td>NaN</td>\n",
       "      <td>2:00–3:00p.m., 11:00am–12:00p.m.</td>\n",
       "      <td>No</td>\n",
       "      <td>10%, 30%, 20%, 40%</td>\n",
       "    </tr>\n",
       "    <tr>\n",
       "      <th>4</th>\n",
       "      <td>Andrew Davidson</td>\n",
       "      <td>ahdavidson@seattleschools.org</td>\n",
       "      <td>206.252.4853</td>\n",
       "      <td>http://rooseveltcs.org/courses/intro-to-cs/</td>\n",
       "      <td>06.25, 2.48</td>\n",
       "      <td>NaN</td>\n",
       "      <td>Yes</td>\n",
       "      <td>60%, 20%, 10%, 10%</td>\n",
       "    </tr>\n",
       "  </tbody>\n",
       "</table>\n",
       "</div>"
      ],
      "text/plain": [
       "     Instructor Names                Instructor Emails Phone Numbers  \\\n",
       "0       Timothy Welsh  timothywelsh@ventureacademy.edu  209-958-3232   \n",
       "1  Dr. Sharon Simmons                 simmonsj@jmu.edu  540-568-4196   \n",
       "2      David Sullivan                    dgs@cs.bu.edu           NaN   \n",
       "3       Molly Johnson                mjohnson@sjsu.edu  209-862-2011   \n",
       "4     Andrew Davidson    ahdavidson@seattleschools.org  206.252.4853   \n",
       "\n",
       "                                                URLs  \\\n",
       "0  http://www.ventureacademyca.org, http://www.ve...   \n",
       "1  http://w3.cs.jmu.edu/cs101, http://www.jmu.edu...   \n",
       "2  http://www.bu.edu/academics/policies/academic-...   \n",
       "3  https://www.sjsu.edu/visit/index.php, https://...   \n",
       "4        http://rooseveltcs.org/courses/intro-to-cs/   \n",
       "\n",
       "           Significant Dates                                   Lecture Times  \\\n",
       "0  2/18/20, 04/15/20, 5/1/20                                 2:00pm–3:15p.m.   \n",
       "1         09/04/20, 10/28/20     2:10pm–3:00pm, 4:00pm–4:50pm, 5:05pm–5:55pm   \n",
       "2                       3/10  10:10-11:00am, 11:15am-12:05pm, 12:20-1:10p.m.   \n",
       "3                        NaN                2:00–3:00p.m., 11:00am–12:00p.m.   \n",
       "4                06.25, 2.48                                             NaN   \n",
       "\n",
       "  Requires Textbook?              Percentages  \n",
       "0                Yes       30%, 20%, 15%, 35%  \n",
       "1                Yes  12%, 18%, 10%, 40%, 20%  \n",
       "2                Yes        45%, 25%, 25%, 5%  \n",
       "3                 No       10%, 30%, 20%, 40%  \n",
       "4                Yes       60%, 20%, 10%, 10%  "
      ]
     },
     "execution_count": 15,
     "metadata": {},
     "output_type": "execute_result"
    }
   ],
   "source": [
    "pd.read_csv('output/features-retrieved-by-MarisolHernandez.csv')"
   ]
  },
  {
   "cell_type": "markdown",
   "metadata": {},
   "source": [
    "## <font color='navy'> Summary</font><a id='summary'></a>\n",
    "---\n",
    "In summary, regular expressions can be extremely useful in the extraction of essential information from files of all kinds of formats. In this notebook, I have shown how they can be used to extract features from a collection of syllabi. Though my program accounts for missing features, there is still room for improvement. Every syllabi is different, so it was quite difficult to write a universal regular expression for every feature. However, as I mentioned, if my regular expression does not pick up on the selected feature, it will return the `NaN` value instead. I tried to account for any missing or undetected features. Overall, I am very happy and proud of the work I have accomplished."
   ]
  }
 ],
 "metadata": {
  "kernelspec": {
   "display_name": "Python 3",
   "language": "python",
   "name": "python3"
  },
  "language_info": {
   "codemirror_mode": {
    "name": "ipython",
    "version": 3
   },
   "file_extension": ".py",
   "mimetype": "text/x-python",
   "name": "python",
   "nbconvert_exporter": "python",
   "pygments_lexer": "ipython3",
   "version": "3.8.8"
  }
 },
 "nbformat": 4,
 "nbformat_minor": 4
}
